{
 "cells": [
  {
   "cell_type": "code",
   "execution_count": 102,
   "metadata": {},
   "outputs": [],
   "source": [
    "from arcgis.gis import GIS\n",
    "from arcgis.geocoding import geocode\n",
    "from arcgis.mapping import WebMap\n",
    "from PIL import Image\n",
    "import arcpy\n",
    "import math\n",
    "\n",
    "gis = GIS(\"home\")\n",
    "aprx = arcpy.mp.ArcGISProject(\"CURRENT\")\n",
    "OUTPUT_DIR = (\"C:/Users/Vincent Mai/Desktop/Projects/GIS/nolli_data\")"
   ]
  },
  {
   "cell_type": "code",
   "execution_count": 75,
   "metadata": {},
   "outputs": [],
   "source": [
    "mapView = aprx.activeView"
   ]
  },
  {
   "cell_type": "code",
   "execution_count": 107,
   "metadata": {},
   "outputs": [],
   "source": [
    "wgs84 = arcpy.SpatialReference(4326)\n",
    "web_mercator = arcpy.SpatialReference(3857)\n",
    "\n",
    "def get_lat_lon(city_name):\n",
    "    geocode_result = geocode(city_name)[0]\n",
    "    lat = geocode_result['location']['y']\n",
    "    lon = geocode_result['location']['x']\n",
    "    return lat, lon\n",
    "\n",
    "def get_extent(lat, lon, size):\n",
    "    point_geo = arcpy.PointGeometry(arcpy.Point(lon, lat), wgs84)\n",
    "    point_projected = point_geo.projectAs(web_mercator)\n",
    "    x, y = point_projected.centroid.X, point_projected.centroid.Y\n",
    "    return arcpy.Extent(x - size, y - size, x + size, y + size)\n",
    "\n",
    "def crop_image(file, width, height, edge_crop):\n",
    "    with Image.open(file) as img:\n",
    "        left = edge_crop\n",
    "        upper = edge_crop\n",
    "        right = width - edge_crop\n",
    "        lower = height - edge_crop\n",
    "        cropped_img = img.crop((left, upper, right, lower))\n",
    "        cropped_img.save(file)\n",
    "        \n",
    "def move_around(lat, lon, step_size, times):\n",
    "    locs = []\n",
    "    n = int(math.sqrt(times))\n",
    "    for i in range (-n//2, n//2):\n",
    "        for j in range(-n//2, n//2):\n",
    "            x = lat + step_size * i\n",
    "            y = lon + step_size * j\n",
    "            locs.append((x, y))\n",
    "    return locs"
   ]
  },
  {
   "cell_type": "code",
   "execution_count": 111,
   "metadata": {},
   "outputs": [],
   "source": [
    "def get_data(location, prefix=''):\n",
    "    image_name = prefix + location.split(',')[0]\n",
    "    width, height = 800, 800\n",
    "    resolution = 90\n",
    "    edge_crop = 50\n",
    "    lat, lon = get_lat_lon(location)\n",
    "    points = move_around(lat, lon, 0.005, 100)\n",
    "    for idx, (x, y) in enumerate(points):\n",
    "        extent = get_extent(x, y, 800)\n",
    "        mapView.camera.setExtent(extent)\n",
    "        mapView.exportToPNG(f\"{OUTPUT_DIR}/{image_name}_{idx}.png\", width, height, resolution)\n",
    "        crop_image(f\"{OUTPUT_DIR}/{image_name}_{idx}.png\", width, height, edge_crop)"
   ]
  },
  {
   "cell_type": "code",
   "execution_count": 105,
   "metadata": {},
   "outputs": [],
   "source": [
    "locations = [\n",
    "    \"New York, New York, USA\",\n",
    "    \"Barcelona, Catalonia, Spain\",\n",
    "    \"Paris, Île-de-France, France\",\n",
    "    \"Amsterdam, North Holland, Netherlands\",\n",
    "    \"Venice, Veneto, Italy\",\n",
    "    \"Brasília, Federal District, Brazil\",\n",
    "    \"Shanghai, China\",\n",
    "    \"Amsterdam, North Holland, Netherlands\",\n",
    "    \"Venice, Veneto, Italy\",\n",
    "    \"Brasília, Federal District, Brazil\",\n",
    "    \"Shanghai, China\",\n",
    "    \"Hong Kong, China\",\n",
    "    \"Moscow, Russia\",\n",
    "    \"Singapore\",\n",
    "    \"Xi'an, Shaanxi, China\",\n",
    "    \"Rome, Lazio, Italy\",\n",
    "    \"Dubai, United Arab Emirates\",\n",
    "    \"São Paulo, São Paulo, Brazil\",\n",
    "    \"Jakarta, Special Capital Region, Indonesia\",\n",
    "    \"New Delhi, Delhi, India\",\n",
    "    \"Tokyo, Japanb\",\n",
    "    \"Vienna, Austria\",\n",
    "    \"Kyoto, Japan\",\n",
    "    \"Copenhagen, Denmark\",\n",
    "    \"Isfahan, Isfahan Province, Iran\",\n",
    "    \"Jaipur, Rajasthan, India\",\n",
    "    \"Edinburgh, Scotland, UK\",\n",
    "    \"Granada, Andalusia, Spain\",\n",
    "    \"Montreal, Quebec, Canada\",\n",
    "    \"Chengdu, Sichuan, China\",\n",
    "    \"St. Petersburg, Russia\",\n",
    "    \"Naples, Campania, Italy\",\n",
    "    \"Philadelphia, Pennsylvania, USA\",\n",
    "    \"Ahmedabad, Gujarat, India\"\n",
    "    \"Suzhou, Jiangsu, China\",\n",
    "    \"Seoul, South Korea\",\n",
    "    \"Lisbon, Portugal\",\n",
    "    \"Mexico City, Mexico\",\n",
    "    \"Budapest, Hungary\",\n",
    "]"
   ]
  },
  {
   "cell_type": "code",
   "execution_count": 114,
   "metadata": {},
   "outputs": [],
   "source": [
    "for loc in locations[1:]:\n",
    "    get_data(loc, prefix='bldg_')"
   ]
  }
 ],
 "metadata": {
  "kernelspec": {
   "display_name": "ArcGISPro",
   "language": "Python",
   "name": "python3"
  },
  "language_info": {
   "file_extension": ".py",
   "name": "python",
   "version": "3"
  }
 },
 "nbformat": 4,
 "nbformat_minor": 2
}
